{
 "cells": [
  {
   "cell_type": "markdown",
   "id": "898000f4",
   "metadata": {},
   "source": [
    "# Using SigPro\n",
    "\n",
    "In this notebook, we will walk through the process of defining and using primitives in SigPro."
   ]
  },
  {
   "cell_type": "markdown",
   "id": "30fb7355",
   "metadata": {},
   "source": [
    "## Primitives \n",
    "Feature engineering in `SigPro` centers around the **primitive**. In `SigPro`, primitives fall under two main types: transformations, and aggregations. Each type of primitive is further broken down into several primitive subtypes."
   ]
  },
  {
   "cell_type": "markdown",
   "id": "f5edcc7c",
   "metadata": {},
   "source": [
    "## Inheritance\n",
    "\n",
    "All primitives are instances of the `sigpro.primitive.Primitive` base class. Furthermore, depending on their respective types and subtypes, each primitive inherits from a specific subclass. For example, a frequency-time transformation primitive would inherit from `sigpro.primitive.FrequencyTimeTransformation`, while an amplitude aggrigation would inherit from `sigpro.primitive.AmplitudeAggregation`."
   ]
  },
  {
   "cell_type": "markdown",
   "id": "1ce86073",
   "metadata": {},
   "source": [
    "### Initializing Primitives\n",
    "\n",
    "Let's view a simple primitive and see how to use it."
   ]
  },
  {
   "cell_type": "code",
   "execution_count": 1,
   "id": "caa6c468",
   "metadata": {},
   "outputs": [
    {
     "data": {
      "text/plain": [
       "<sigpro.basic_primitives.Mean at 0x7f91e078db50>"
      ]
     },
     "execution_count": 1,
     "metadata": {},
     "output_type": "execute_result"
    }
   ],
   "source": [
    "# Import primitive\n",
    "from sigpro.basic_primitives import Mean\n",
    "\n",
    "# Initialize the primitive object\n",
    "mean_primitive = Mean()\n",
    "\n",
    "mean_primitive"
   ]
  },
  {
   "cell_type": "markdown",
   "id": "7e079aec",
   "metadata": {},
   "source": [
    "The `Mean` primitive we just defined is an example of an `AmplitudeAggregation`; in other words, its type is `'aggregation'`, and its subtype is `'amplitude'`. To see this, we call its `get_type_subtype` method:"
   ]
  },
  {
   "cell_type": "code",
   "execution_count": 2,
   "id": "6282a2ca",
   "metadata": {},
   "outputs": [
    {
     "data": {
      "text/plain": [
       "('aggregation', 'amplitude')"
      ]
     },
     "execution_count": 2,
     "metadata": {},
     "output_type": "execute_result"
    }
   ],
   "source": [
    "# Check the type and subtype of mean_primitive\n",
    "mean_primitive.get_type_subtype()"
   ]
  },
  {
   "cell_type": "markdown",
   "id": "7f896595",
   "metadata": {},
   "source": [
    "By default, `mean_primitive` will be given the tag `mean`. To observe or change this tag, call the `get_tag` and `set_tag` methods, respectively."
   ]
  },
  {
   "cell_type": "code",
   "execution_count": 3,
   "id": "81579de6",
   "metadata": {},
   "outputs": [
    {
     "name": "stdout",
     "output_type": "stream",
     "text": [
      "Old tag:  mean\n",
      "New tag:  mean_tag\n",
      "Last tag:  mean\n"
     ]
    }
   ],
   "source": [
    "#Re-initialize mean_primitive\n",
    "mean_primitive = Mean()\n",
    "\n",
    "# Observe the current tag\n",
    "print('Old tag: ', mean_primitive.get_tag())\n",
    "\n",
    "# Re-tag mean_primitive with a custom string\n",
    "mean_primitive.set_tag('mean_tag')\n",
    "\n",
    "# Observe the new tag\n",
    "print('New tag: ', mean_primitive.get_tag())\n",
    "\n",
    "# Set the tag of mean_primitive back to mean\n",
    "mean_primitive = mean_primitive.set_tag('mean')\n",
    "\n",
    "# Observe the new tag\n",
    "print('Last tag: ', mean_primitive.get_tag())"
   ]
  },
  {
   "cell_type": "markdown",
   "id": "a2bd74c8",
   "metadata": {},
   "source": [
    "Tagging primitives will be useful when building pipelines."
   ]
  },
  {
   "cell_type": "markdown",
   "id": "8bf797e6",
   "metadata": {},
   "source": [
    "### Primitives with hyperparameters\n",
    "\n",
    "In our previous example, the `Mean` primitive did not offer any hyperparameters to set by the user. Let's consider the `FrequencyBand` primitive, which accepts two hyperparameters as input arguments: `low` and `high`.\n",
    "\n",
    "To initialize the primitive, we pass in the `low` and `high` values as (keyword) arguments."
   ]
  },
  {
   "cell_type": "code",
   "execution_count": 4,
   "id": "b3e02f31",
   "metadata": {},
   "outputs": [
    {
     "data": {
      "text/plain": [
       "<sigpro.basic_primitives.FrequencyBand at 0x7f91e1a79b20>"
      ]
     },
     "execution_count": 4,
     "metadata": {},
     "output_type": "execute_result"
    }
   ],
   "source": [
    "# Import primitive\n",
    "from sigpro.basic_primitives import FrequencyBand\n",
    "\n",
    "# Initialize the primitive object\n",
    "fb_primitive = FrequencyBand(low = 10, high = 20)\n",
    "\n",
    "fb_primitive"
   ]
  },
  {
   "cell_type": "markdown",
   "id": "753ce936",
   "metadata": {},
   "source": [
    "We can preview the hyperparameters with the `get_hyperparam_dict` method."
   ]
  },
  {
   "cell_type": "code",
   "execution_count": 5,
   "id": "e477f6aa",
   "metadata": {},
   "outputs": [
    {
     "data": {
      "text/plain": [
       "{'name': 'frequency_band',\n",
       " 'primitive': 'sigpro.transformations.frequency.band.frequency_band',\n",
       " 'init_params': {'low': 10, 'high': 20}}"
      ]
     },
     "execution_count": 5,
     "metadata": {},
     "output_type": "execute_result"
    }
   ],
   "source": [
    "fb_primitive.get_hyperparam_dict()"
   ]
  },
  {
   "cell_type": "markdown",
   "id": "a09b99a3",
   "metadata": {},
   "source": [
    "### Primitive JSON Annotations\n",
    "\n",
    "Each SigPro `Primitive` is accompanied by a corresponding JSON annotation. To preview the JSON annotation, we use the `make_primitive_json` method."
   ]
  },
  {
   "cell_type": "code",
   "execution_count": 6,
   "id": "892d0f69",
   "metadata": {},
   "outputs": [
    {
     "name": "stdout",
     "output_type": "stream",
     "text": [
      "{\n",
      "  \"name\": \"sigpro.transformations.frequency.band.frequency_band\",\n",
      "  \"primitive\": \"sigpro.transformations.frequency.band.frequency_band\",\n",
      "  \"classifiers\": {\n",
      "    \"type\": \"transformation\",\n",
      "    \"subtype\": \"frequency\"\n",
      "  },\n",
      "  \"produce\": {\n",
      "    \"args\": [\n",
      "      {\n",
      "        \"name\": \"amplitude_values\",\n",
      "        \"type\": \"numpy.ndarray\"\n",
      "      },\n",
      "      {\n",
      "        \"name\": \"frequency_values\",\n",
      "        \"type\": \"numpy.ndarray\"\n",
      "      }\n",
      "    ],\n",
      "    \"output\": [\n",
      "      {\n",
      "        \"name\": \"amplitude_values\",\n",
      "        \"type\": \"numpy.ndarray\"\n",
      "      },\n",
      "      {\n",
      "        \"name\": \"frequency_values\",\n",
      "        \"type\": \"numpy.ndarray\"\n",
      "      }\n",
      "    ]\n",
      "  },\n",
      "  \"hyperparameters\": {\n",
      "    \"fixed\": {\n",
      "      \"low\": {\n",
      "        \"type\": \"int\"\n",
      "      },\n",
      "      \"high\": {\n",
      "        \"type\": \"int\"\n",
      "      }\n",
      "    },\n",
      "    \"tunable\": {}\n",
      "  }\n",
      "}\n"
     ]
    }
   ],
   "source": [
    "import json\n",
    "\n",
    "# More readable output\n",
    "print(json.dumps(fb_primitive.make_primitive_json(), indent = 2))"
   ]
  },
  {
   "cell_type": "markdown",
   "id": "cbe98dfb",
   "metadata": {},
   "source": [
    "### Primitive Interface\n",
    "\n",
    "We summarize the public interface of the `sigpro.primitive.Primitive` class below.\n",
    "\n",
    "| Method name | Additional arguments | Description |\n",
    "| --- | --- | --- |\n",
    "| `get_name` |  | Return the name of the primitive. |\n",
    "| `get_tag` |  | Return the user-given tag of the primitive. |\n",
    "| `get_inputs` |  | Return the inputs of the primitive. |\n",
    "| `get_outputs` |  | Return the outputs of the primitive. |\n",
    "| `get_type_subtype` |  | Return the type and subtype of the primitive. |\n",
    "| `get_hyperparam_dict` |  | Return the hyperparameters of the primitive. |\n",
    "| `get_context_arguments` |  | Return the context arguments of the primitive. |\n",
    "| `get_fixed_hyperparameters` |  | Return the fixed hyperparameters of the primitive. |\n",
    "| `get_tunable_hyperparameters` |  | Return the tunable hyperparameters of the primitive. |\n",
    "| `set_tag` | `tag` | Set the tag of the primitive and return the primitive itself. |\n",
    "| `set_context_arguments`  | `context_arguments` | Set the context arguments of the primitive to args. |\n",
    "| `set_fixed_hyperparameters`  | `fixed_hyperparameters` | Set the fixed hyperparameters of the primitive. |\n",
    "| `set_tunable_hyperparameters (params)` | `tunable_hyperparameters` | Set the tunable hyperparameters of the primitive. |\n",
    "| `make_primitive_json` |  | Return the JSON representation of the primitive. |\n",
    "| `write_primitive_json` | `primitives_path`, `primitives_subfolders` | Write the JSON representation of the primitive to the given path.  |"
   ]
  },
  {
   "cell_type": "markdown",
   "id": "36d5699a",
   "metadata": {},
   "source": [
    "## Custom Primitives\n",
    "\n",
    "In certain cases, we may be interested in writing a custom primitive class to implement our own primitive function. \n",
    "\n",
    "Suppose that we have already written the `mean` function within the `sigpro.aggregations.amplitude.statistical` module:\n",
    "\n",
    "```python\n",
    "import numpy as np \n",
    "\n",
    "...\n",
    "\n",
    "def mean(amplitude_values):\n",
    "    return np.mean(amplitude_values)\n",
    "    \n",
    "...\n",
    "```\n",
    "We have two alternatives for creating a subclass of `Primitive`:\n",
    "\n",
    "1. Call `sigpro.contributing_primitive.make_primitive_class` while passing in any necessary additional parameters.\n",
    "2. Write a subclass of the appropriate `Primitive` subclass directly and call `write_primitive_json` to record the primitive JSON.\n",
    "\n",
    "As we can see below, both approaches lead to the same primitive json annotation and functionality."
   ]
  },
  {
   "cell_type": "code",
   "execution_count": 7,
   "id": "818291e9",
   "metadata": {},
   "outputs": [],
   "source": [
    "# Imports\n",
    "\n",
    "from sigpro.primitive import AmplitudeAggregation\n",
    "from sigpro.contributing_primitive import get_primitive_class"
   ]
  },
  {
   "cell_type": "code",
   "execution_count": 8,
   "id": "eda056fb",
   "metadata": {},
   "outputs": [],
   "source": [
    "# Approach 1: create the primitive using SigPro.\n",
    "\n",
    "mean_path = \"sigpro.aggregations.amplitude.statistical.mean\"\n",
    "mean_outputs = [{'name': 'mean_value', 'type': 'float'}]\n",
    "\n",
    "# Since the JSON annotation already exists in SigPro, we call get_primitive_class instead of make_primitive_class.\n",
    "# This is only for the example.\n",
    "MeanDynamic = get_primitive_class(mean_path, 'aggregation', 'amplitude', primitive_outputs=mean_outputs)\n",
    "mean_dynamic = MeanDynamic()"
   ]
  },
  {
   "cell_type": "code",
   "execution_count": 9,
   "id": "13d7d637",
   "metadata": {},
   "outputs": [],
   "source": [
    "# Approach 2: write the primitive class directly.\n",
    "\n",
    "class MeanClass(AmplitudeAggregation):\n",
    "    def __init__(self):\n",
    "        super().__init__(\"sigpro.aggregations.amplitude.statistical.mean\")\n",
    "        self.set_primitive_outputs([{\"name\": \"mean_value\", \"type\": \"float\" }])\n",
    "\n",
    "mean_class = MeanClass()"
   ]
  },
  {
   "cell_type": "code",
   "execution_count": 10,
   "id": "4a9ab309",
   "metadata": {},
   "outputs": [
    {
     "name": "stdout",
     "output_type": "stream",
     "text": [
      "True\n"
     ]
    }
   ],
   "source": [
    "# Check that JSON annotations are equal.\n",
    "\n",
    "print(mean_class.make_primitive_json() == mean_dynamic.make_primitive_json())"
   ]
  },
  {
   "cell_type": "markdown",
   "id": "09e14b2a",
   "metadata": {},
   "source": [
    "## Pipelines\n",
    "\n",
    "While primitives can be quite useful on their own, the true power of `SigPro` arises in\n",
    "the development of a feature engineering pipeline. These are represented by the abstract `sigpro.pipeline.Pipeline` class."
   ]
  },
  {
   "cell_type": "markdown",
   "id": "36314730",
   "metadata": {},
   "source": [
    "In general, feature pipelines will apply a sequence of transformation primitives consecutively, followed by a single aggregation primitive, to generate a single given feature. In the simplest scenario, we have a single defined sequence of transformation primitives we would like to apply to a signal, as well as a set of aggregations to apply to the transformed signal. This can be done with a `LinearPipeline`, which we create with the `sigpro.pipeline.build_linear_pipeline` function."
   ]
  },
  {
   "cell_type": "markdown",
   "id": "564402df",
   "metadata": {},
   "source": [
    "### Building Linear Pipelines"
   ]
  },
  {
   "cell_type": "markdown",
   "id": "f7cfff69",
   "metadata": {},
   "source": [
    "Let's consider an example pipeline where we apply the `Identity` and `FFT` transformations and the `Std` and `Var` aggregations.\n",
    "\n",
    "First, we need to import all necessary modules and define the primitives we would like to use."
   ]
  },
  {
   "cell_type": "code",
   "execution_count": 11,
   "id": "1aa88ea8",
   "metadata": {},
   "outputs": [],
   "source": [
    "# Imports\n",
    "\n",
    "from sigpro.basic_primitives import Identity, FFT, Std, Var\n",
    "from sigpro.pipeline import build_linear_pipeline"
   ]
  },
  {
   "cell_type": "code",
   "execution_count": 12,
   "id": "5667b7f7",
   "metadata": {},
   "outputs": [],
   "source": [
    "transformations = [Identity(), FFT()]\n",
    "aggregations = [Std(), Var()]"
   ]
  },
  {
   "cell_type": "markdown",
   "id": "8e5e6813",
   "metadata": {},
   "source": [
    "To build a linear pipeline, simply pass in the list of transformations and aggregations."
   ]
  },
  {
   "cell_type": "code",
   "execution_count": 13,
   "id": "440e3802",
   "metadata": {},
   "outputs": [],
   "source": [
    "mypipeline = build_linear_pipeline(transformations, aggregations)"
   ]
  },
  {
   "cell_type": "markdown",
   "id": "c0d6198a",
   "metadata": {},
   "source": [
    "### Inspecting Pipelines\n",
    "\n",
    "To better understand the contents of pipelines, we can call the `get_primitives` and `get_output_features` methods to obtain the list of primitives and output features, respectively, associated with the pipeline. In particular, each feature is represented as a string of primitives separated by a period `.`, representing the sequence of operations applied to the input signal, followed by the output name of the final aggregation."
   ]
  },
  {
   "cell_type": "code",
   "execution_count": 14,
   "id": "af47ef64",
   "metadata": {},
   "outputs": [
    {
     "data": {
      "text/plain": [
       "[<sigpro.basic_primitives.Identity at 0x7f91b000aac0>,\n",
       " <sigpro.basic_primitives.FFT at 0x7f91e1a9d400>,\n",
       " <sigpro.basic_primitives.Std at 0x7f91b000a880>,\n",
       " <sigpro.basic_primitives.Var at 0x7f91b000aa90>]"
      ]
     },
     "execution_count": 14,
     "metadata": {},
     "output_type": "execute_result"
    }
   ],
   "source": [
    "# Used Primitives\n",
    "\n",
    "used_primitives = mypipeline.get_primitives()\n",
    "used_primitives"
   ]
  },
  {
   "cell_type": "code",
   "execution_count": 15,
   "id": "1446912c",
   "metadata": {},
   "outputs": [
    {
     "data": {
      "text/plain": [
       "['identity.fft.std.std_value', 'identity.fft.var.var_value']"
      ]
     },
     "execution_count": 15,
     "metadata": {},
     "output_type": "execute_result"
    }
   ],
   "source": [
    "#Output features\n",
    "\n",
    "output_features = mypipeline.get_output_features()\n",
    "output_features"
   ]
  },
  {
   "cell_type": "markdown",
   "id": "a88cf6a9",
   "metadata": {},
   "source": [
    "### More Complex Pipelines\n",
    "\n",
    "In certain cases, we may wish to build more complex pipeline architectures. Such architectures are represented with the `LayerPipeline` subclass.\n",
    "\n",
    "`SigPro` provides the `build_tree_pipeline(transformation_layers, aggregation_layer)` method to build tree-shaped pipelines, which generate all features in the Cartesian product of the transformation layers and aggregation layer; in other words, any possible sequence of transformations and aggregation chosen one from each layer is represented in the final feature output."
   ]
  },
  {
   "cell_type": "code",
   "execution_count": 16,
   "id": "3344eeda",
   "metadata": {},
   "outputs": [],
   "source": [
    "# Import packages\n",
    "from sigpro.basic_primitives import (\n",
    "    Identity, FFT, FFTReal, Mean, Kurtosis)\n",
    "from sigpro.pipeline import build_tree_pipeline\n",
    "\n",
    "# Define primitive objects\n",
    "identity_tfm = Identity().set_tag('id1') #\n",
    "identity2_tfm = Identity().set_tag('id2') #Avoid duplicate tags\n",
    "fft_tfm, fft_real_tfm = FFT(), FFTReal()\n",
    "mean_agg, kurtosis_agg = Mean(), Kurtosis(bias=False)\n",
    "\n",
    "# Instantiate tree pipeline\n",
    "tfmlayer1 = [identity_tfm, identity2_tfm]\n",
    "tfmlayer2 = [fft_tfm, fft_real_tfm]\n",
    "agglayer = [mean_agg, kurtosis_agg]\n",
    "tree_pipeline = build_tree_pipeline([tfmlayer1, tfmlayer2], agglayer)"
   ]
  },
  {
   "cell_type": "code",
   "execution_count": 17,
   "id": "90b1a120",
   "metadata": {},
   "outputs": [
    {
     "data": {
      "text/plain": [
       "[<sigpro.basic_primitives.FFTReal at 0x7f91e1afd640>,\n",
       " <sigpro.basic_primitives.Identity at 0x7f91e1afde50>,\n",
       " <sigpro.basic_primitives.Mean at 0x7f91e1afde80>,\n",
       " <sigpro.basic_primitives.Kurtosis at 0x7f91e1afd6a0>,\n",
       " <sigpro.basic_primitives.Identity at 0x7f91e1afdeb0>,\n",
       " <sigpro.basic_primitives.FFT at 0x7f91e1afdb20>]"
      ]
     },
     "execution_count": 17,
     "metadata": {},
     "output_type": "execute_result"
    }
   ],
   "source": [
    "tree_pipeline.get_primitives()"
   ]
  },
  {
   "cell_type": "code",
   "execution_count": 18,
   "id": "c953f449",
   "metadata": {},
   "outputs": [
    {
     "data": {
      "text/plain": [
       "['id1.fft.mean.mean_value',\n",
       " 'id1.fft.kurtosis.kurtosis_value',\n",
       " 'id1.fft_real.mean.mean_value',\n",
       " 'id1.fft_real.kurtosis.kurtosis_value',\n",
       " 'id2.fft.mean.mean_value',\n",
       " 'id2.fft.kurtosis.kurtosis_value',\n",
       " 'id2.fft_real.mean.mean_value',\n",
       " 'id2.fft_real.kurtosis.kurtosis_value']"
      ]
     },
     "execution_count": 18,
     "metadata": {},
     "output_type": "execute_result"
    }
   ],
   "source": [
    "tree_pipeline.get_output_features()"
   ]
  },
  {
   "cell_type": "markdown",
   "id": "ee027dfc",
   "metadata": {},
   "source": [
    "`SigPro` allows for the generation of any arbitrary list of feature combination tuples with the `build_layer_pipeline(primitives, primitive_combinations)` method."
   ]
  },
  {
   "cell_type": "code",
   "execution_count": 19,
   "id": "fbf40758",
   "metadata": {},
   "outputs": [],
   "source": [
    "from sigpro.basic_primitives import (\n",
    "    BandMean, Identity, FFT, FFTReal, Mean, Kurtosis)\n",
    "from sigpro.pipeline import build_layer_pipeline\n",
    "\n",
    "\n",
    "p1, p2 = FFTReal().set_tag('fftr'), FFT()\n",
    "p3, p4 = Identity().set_tag('id1'), Identity().set_tag('id2')\n",
    "p5, p6, p7 = BandMean(200, 50000).set_tag('bm'), Mean(), Kurtosis(fisher=False)\n",
    "p8 = Identity().set_tag('id3')  # unused primitive\n",
    "\n",
    "all_primitives = [p1, p2, p3, p4, p5, p6, p7, p8]\n",
    "\n",
    "features = [(p1, p3, p5), (p1, p3, p6), (p2, p3, p6), (p2, p4, p6), (p2, p4, p7)]\n",
    "\n",
    "layer_pipeline = build_layer_pipeline(all_primitives, features)"
   ]
  },
  {
   "cell_type": "code",
   "execution_count": 20,
   "id": "5a045991",
   "metadata": {},
   "outputs": [
    {
     "data": {
      "text/plain": [
       "[<sigpro.basic_primitives.FFTReal at 0x7f91e1b17b80>,\n",
       " <sigpro.basic_primitives.FFT at 0x7f91e1b17760>,\n",
       " <sigpro.basic_primitives.Identity at 0x7f91e1b17040>,\n",
       " <sigpro.basic_primitives.Identity at 0x7f91e1b17550>,\n",
       " <sigpro.basic_primitives.BandMean at 0x7f91e1b33760>,\n",
       " <sigpro.basic_primitives.Mean at 0x7f91e1b33700>,\n",
       " <sigpro.basic_primitives.Kurtosis at 0x7f91e1b32400>,\n",
       " <sigpro.basic_primitives.Identity at 0x7f91e1b33730>]"
      ]
     },
     "execution_count": 20,
     "metadata": {},
     "output_type": "execute_result"
    }
   ],
   "source": [
    "layer_pipeline.get_primitives()"
   ]
  },
  {
   "cell_type": "code",
   "execution_count": 21,
   "id": "d23e0f68",
   "metadata": {},
   "outputs": [
    {
     "data": {
      "text/plain": [
       "['fftr.id1.bm.value',\n",
       " 'fftr.id1.mean.mean_value',\n",
       " 'fft.id1.mean.mean_value',\n",
       " 'fft.id2.mean.mean_value',\n",
       " 'fft.id2.kurtosis.kurtosis_value']"
      ]
     },
     "execution_count": 21,
     "metadata": {},
     "output_type": "execute_result"
    }
   ],
   "source": [
    "layer_pipeline.get_output_features()"
   ]
  },
  {
   "cell_type": "markdown",
   "id": "aea62cec",
   "metadata": {},
   "source": [
    "### Combining pipelines\n",
    "\n",
    "If we do not wish to specify the exact combination of features to produce a `LayerPipeline`, we can still customize our feature engineering using the `sigpro.pipeline.merge_pipelines` function. By passing in a list of pipelines, we can generate a single pipeline to generate all features produced by at least one feature input.\n",
    "\n",
    "For our example, we first initialize several primitive objects:"
   ]
  },
  {
   "cell_type": "code",
   "execution_count": 22,
   "id": "b5b15b07",
   "metadata": {},
   "outputs": [],
   "source": [
    "# Import\n",
    "from sigpro.pipeline import merge_pipelines\n",
    "\n",
    "# Initialize some primitives\n",
    "p1, p2 = FFTReal().set_tag('fftr'), FFT()\n",
    "p3, p4 = Identity().set_tag('id1'), Identity().set_tag('id2')\n",
    "p5, p6, p7 = BandMean(200, 50000).set_tag('bm'), Mean(), Kurtosis(fisher=False)\n",
    "p8 = Identity().set_tag('id3')  # unused primitive"
   ]
  },
  {
   "cell_type": "markdown",
   "id": "954c8eb0",
   "metadata": {},
   "source": [
    "We next initialize three separate pipelines using the specified primitives and merge them into a single pipeline."
   ]
  },
  {
   "cell_type": "code",
   "execution_count": 23,
   "id": "11d94b77",
   "metadata": {},
   "outputs": [],
   "source": [
    "all_primitives = [p1, p2, p3, p4, p5, p6, p7, p8]\n",
    "\n",
    "layer_combinations = [(p1, p3, p5), (p1, p3, p6), (p2, p3, p6), (p2, p4, p6), (p2, p4, p7)]\n",
    "\n",
    "sub_pipeline1 = build_layer_pipeline(all_primitives, layer_combinations)\n",
    "sub_pipeline2 = build_tree_pipeline([[p1, p2], [p3]], [p5])\n",
    "sub_pipeline3 = build_linear_pipeline([p1, p4], [p6])\n",
    "\n",
    "merged_pipeline = merge_pipelines([sub_pipeline1, \n",
    "                                   sub_pipeline2,\n",
    "                                   sub_pipeline3])"
   ]
  },
  {
   "cell_type": "markdown",
   "id": "0b9a6c1a",
   "metadata": {},
   "source": [
    "Lastly, we check that the merged pipeline indeed generates the union of all of the features of the sub-pipelines."
   ]
  },
  {
   "cell_type": "code",
   "execution_count": 24,
   "id": "a0648b36",
   "metadata": {},
   "outputs": [
    {
     "name": "stdout",
     "output_type": "stream",
     "text": [
      "True\n"
     ]
    }
   ],
   "source": [
    "expected_features = set(sub_pipeline1.get_output_features() + \n",
    "                        sub_pipeline2.get_output_features() + \n",
    "                        sub_pipeline3.get_output_features())\n",
    "actual_features = set(merged_pipeline.get_output_features())\n",
    "\n",
    "print(expected_features == actual_features)"
   ]
  },
  {
   "cell_type": "markdown",
   "id": "822d7d5e",
   "metadata": {},
   "source": [
    "## Applying a Pipeline with `process_signal`\n",
    "\n",
    "Once our pipeline is correctly defined, we apply the `process_signal` method to a demo dataset. Recall that `process_signal` is defined as follows:\n",
    "\n",
    "\n",
    "```python\n",
    "def process_signal(self, data=None, window=None, values_column_name='values',\n",
    "                       time_index=None, groupby_index=None, feature_columns=None,\n",
    "                       keep_columns=False, input_is_dataframe=True, **kwargs):\n",
    "    \n",
    "\n",
    "\t\t...\n",
    "\t\treturn data, feature_columns\n",
    "```\n",
    "\n",
    "`process_signal` accepts as input the following arguments:\n",
    "\n",
    "- `data (pd.Dataframe)` : Dataframe with a column containing signal values.\n",
    "- `window (str)`: Duration of window size, e.g. ('1h').\n",
    "- `vaues_column_name (str)`: Name of the column in `data` containing signal values.\n",
    "- `time_index (str)`: Name of column in `data` that represents the time index.\n",
    "- `groupby_index (str or list[str])`: List of column names to group together and take the window over.\n",
    "- `feature_columns (list)`: List of columns from the input data that should be considered as features (and not dropped).\n",
    "- `keep_columns (bool or list[str])`:  Whether to keep non-feature columns in the output DataFrame or not. If a list of column names are passed, those columns are kept.\n",
    "- `input_is_dataframe (bool)`: Whether the input data is a Dataframe. Used for MLBlocks integration.\n",
    "\n",
    "`process_signal` outputs the following:\n",
    "\n",
    "- `data (pd.Dataframe)`: Dataframe containing output feature values as constructed from the signal\n",
    "- `feature_columns (list)`: list of (generated) feature names.\n",
    "\n",
    "We now apply our first pipeline `mypipeline` to a toy dataset in the `xvalues`, `yvalues` format. We will define our toy dataset as follows. "
   ]
  },
  {
   "cell_type": "code",
   "execution_count": 25,
   "id": "4ef6ab59",
   "metadata": {},
   "outputs": [],
   "source": [
    "# Redefine mypipeline\n",
    "\n",
    "transformations = [Identity(), FFT()]\n",
    "aggregations = [Std(), Var()]\n",
    "\n",
    "mypipeline = build_linear_pipeline(transformations, aggregations)"
   ]
  },
  {
   "cell_type": "code",
   "execution_count": 26,
   "id": "20c341ab",
   "metadata": {},
   "outputs": [],
   "source": [
    "from sigpro.demo import get_demo_data"
   ]
  },
  {
   "cell_type": "code",
   "execution_count": 27,
   "id": "dbb7545a",
   "metadata": {},
   "outputs": [
    {
     "data": {
      "text/html": [
       "<div>\n",
       "<style scoped>\n",
       "    .dataframe tbody tr th:only-of-type {\n",
       "        vertical-align: middle;\n",
       "    }\n",
       "\n",
       "    .dataframe tbody tr th {\n",
       "        vertical-align: top;\n",
       "    }\n",
       "\n",
       "    .dataframe thead th {\n",
       "        text-align: right;\n",
       "    }\n",
       "</style>\n",
       "<table border=\"1\" class=\"dataframe\">\n",
       "  <thead>\n",
       "    <tr style=\"text-align: right;\">\n",
       "      <th></th>\n",
       "      <th>turbine_id</th>\n",
       "      <th>signal_id</th>\n",
       "      <th>xvalues</th>\n",
       "      <th>yvalues</th>\n",
       "      <th>sampling_frequency</th>\n",
       "    </tr>\n",
       "  </thead>\n",
       "  <tbody>\n",
       "    <tr>\n",
       "      <th>0</th>\n",
       "      <td>T001</td>\n",
       "      <td>Sensor1_signal1</td>\n",
       "      <td>[2020-01-01 00:00:00, 2020-01-01 00:00:01, 202...</td>\n",
       "      <td>[0.43616983763682876, -0.17662312586241055, 0....</td>\n",
       "      <td>1000.0</td>\n",
       "    </tr>\n",
       "    <tr>\n",
       "      <th>1</th>\n",
       "      <td>T001</td>\n",
       "      <td>Sensor1_signal1</td>\n",
       "      <td>[2020-01-01 01:00:00, 2020-01-01 01:00:01, 202...</td>\n",
       "      <td>[0.8023828754411122, -0.14122063493312714, -0....</td>\n",
       "      <td>1000.0</td>\n",
       "    </tr>\n",
       "    <tr>\n",
       "      <th>2</th>\n",
       "      <td>T001</td>\n",
       "      <td>Sensor1_signal1</td>\n",
       "      <td>[2020-01-01 02:00:00, 2020-01-01 02:00:01, 202...</td>\n",
       "      <td>[-1.3143142430046044, -1.1055740033788437, -0....</td>\n",
       "      <td>1000.0</td>\n",
       "    </tr>\n",
       "    <tr>\n",
       "      <th>3</th>\n",
       "      <td>T001</td>\n",
       "      <td>Sensor1_signal1</td>\n",
       "      <td>[2020-01-01 03:00:00, 2020-01-01 03:00:01, 202...</td>\n",
       "      <td>[-0.45981995520032104, -0.3255426061995603, -0...</td>\n",
       "      <td>1000.0</td>\n",
       "    </tr>\n",
       "    <tr>\n",
       "      <th>4</th>\n",
       "      <td>T001</td>\n",
       "      <td>Sensor1_signal1</td>\n",
       "      <td>[2020-01-01 04:00:00, 2020-01-01 04:00:01, 202...</td>\n",
       "      <td>[-0.6380405111460377, -0.11924167777027689, 0....</td>\n",
       "      <td>1000.0</td>\n",
       "    </tr>\n",
       "  </tbody>\n",
       "</table>\n",
       "</div>"
      ],
      "text/plain": [
       "  turbine_id        signal_id  \\\n",
       "0       T001  Sensor1_signal1   \n",
       "1       T001  Sensor1_signal1   \n",
       "2       T001  Sensor1_signal1   \n",
       "3       T001  Sensor1_signal1   \n",
       "4       T001  Sensor1_signal1   \n",
       "\n",
       "                                             xvalues  \\\n",
       "0  [2020-01-01 00:00:00, 2020-01-01 00:00:01, 202...   \n",
       "1  [2020-01-01 01:00:00, 2020-01-01 01:00:01, 202...   \n",
       "2  [2020-01-01 02:00:00, 2020-01-01 02:00:01, 202...   \n",
       "3  [2020-01-01 03:00:00, 2020-01-01 03:00:01, 202...   \n",
       "4  [2020-01-01 04:00:00, 2020-01-01 04:00:01, 202...   \n",
       "\n",
       "                                             yvalues  sampling_frequency  \n",
       "0  [0.43616983763682876, -0.17662312586241055, 0....              1000.0  \n",
       "1  [0.8023828754411122, -0.14122063493312714, -0....              1000.0  \n",
       "2  [-1.3143142430046044, -1.1055740033788437, -0....              1000.0  \n",
       "3  [-0.45981995520032104, -0.3255426061995603, -0...              1000.0  \n",
       "4  [-0.6380405111460377, -0.11924167777027689, 0....              1000.0  "
      ]
     },
     "execution_count": 27,
     "metadata": {},
     "output_type": "execute_result"
    }
   ],
   "source": [
    "demo_dataset = get_demo_data()\n",
    "demo_dataset['xvalues'] = demo_dataset['timestamp'].copy()\n",
    "demo_dataset['yvalues'] = demo_dataset['values'].copy()\n",
    "demo_dataset = (demo_dataset.set_index('timestamp').resample(rule = '60T').apply(lambda x: x.to_list())).reset_index()\n",
    "demo_dataset[['turbine_id', 'signal_id', 'sampling_frequency']] = demo_dataset[['turbine_id', 'signal_id', 'sampling_frequency']].apply(lambda x: x[0])\n",
    "demo_dataset = demo_dataset[['turbine_id', 'signal_id', 'xvalues', 'yvalues', 'sampling_frequency']]\n",
    "demo_dataset.head()"
   ]
  },
  {
   "cell_type": "markdown",
   "id": "cefb58a1",
   "metadata": {},
   "source": [
    "We now call the `process_signal` method using `mypipeline`."
   ]
  },
  {
   "cell_type": "code",
   "execution_count": 28,
   "id": "843a4647",
   "metadata": {},
   "outputs": [],
   "source": [
    "processed_data, feature_columns = mypipeline.process_signal(demo_dataset,\n",
    "                                                                values_column_name='yvalues',\n",
    "                                                                time_index = 'xvalues',\n",
    "                                                                keep_columns = True )"
   ]
  },
  {
   "cell_type": "code",
   "execution_count": 29,
   "id": "453a2401",
   "metadata": {},
   "outputs": [
    {
     "data": {
      "text/html": [
       "<div>\n",
       "<style scoped>\n",
       "    .dataframe tbody tr th:only-of-type {\n",
       "        vertical-align: middle;\n",
       "    }\n",
       "\n",
       "    .dataframe tbody tr th {\n",
       "        vertical-align: top;\n",
       "    }\n",
       "\n",
       "    .dataframe thead th {\n",
       "        text-align: right;\n",
       "    }\n",
       "</style>\n",
       "<table border=\"1\" class=\"dataframe\">\n",
       "  <thead>\n",
       "    <tr style=\"text-align: right;\">\n",
       "      <th></th>\n",
       "      <th>turbine_id</th>\n",
       "      <th>signal_id</th>\n",
       "      <th>xvalues</th>\n",
       "      <th>yvalues</th>\n",
       "      <th>sampling_frequency</th>\n",
       "      <th>identity.fft.std.std_value</th>\n",
       "      <th>identity.fft.var.var_value</th>\n",
       "    </tr>\n",
       "  </thead>\n",
       "  <tbody>\n",
       "    <tr>\n",
       "      <th>0</th>\n",
       "      <td>T001</td>\n",
       "      <td>Sensor1_signal1</td>\n",
       "      <td>[2020-01-01 00:00:00, 2020-01-01 00:00:01, 202...</td>\n",
       "      <td>[0.43616983763682876, -0.17662312586241055, 0....</td>\n",
       "      <td>1000.0</td>\n",
       "      <td>14.444991</td>\n",
       "      <td>208.657778</td>\n",
       "    </tr>\n",
       "    <tr>\n",
       "      <th>1</th>\n",
       "      <td>T001</td>\n",
       "      <td>Sensor1_signal1</td>\n",
       "      <td>[2020-01-01 01:00:00, 2020-01-01 01:00:01, 202...</td>\n",
       "      <td>[0.8023828754411122, -0.14122063493312714, -0....</td>\n",
       "      <td>1000.0</td>\n",
       "      <td>12.326223</td>\n",
       "      <td>151.935764</td>\n",
       "    </tr>\n",
       "    <tr>\n",
       "      <th>2</th>\n",
       "      <td>T001</td>\n",
       "      <td>Sensor1_signal1</td>\n",
       "      <td>[2020-01-01 02:00:00, 2020-01-01 02:00:01, 202...</td>\n",
       "      <td>[-1.3143142430046044, -1.1055740033788437, -0....</td>\n",
       "      <td>1000.0</td>\n",
       "      <td>12.051415</td>\n",
       "      <td>145.236607</td>\n",
       "    </tr>\n",
       "    <tr>\n",
       "      <th>3</th>\n",
       "      <td>T001</td>\n",
       "      <td>Sensor1_signal1</td>\n",
       "      <td>[2020-01-01 03:00:00, 2020-01-01 03:00:01, 202...</td>\n",
       "      <td>[-0.45981995520032104, -0.3255426061995603, -0...</td>\n",
       "      <td>1000.0</td>\n",
       "      <td>10.657243</td>\n",
       "      <td>113.576820</td>\n",
       "    </tr>\n",
       "    <tr>\n",
       "      <th>4</th>\n",
       "      <td>T001</td>\n",
       "      <td>Sensor1_signal1</td>\n",
       "      <td>[2020-01-01 04:00:00, 2020-01-01 04:00:01, 202...</td>\n",
       "      <td>[-0.6380405111460377, -0.11924167777027689, 0....</td>\n",
       "      <td>1000.0</td>\n",
       "      <td>12.640728</td>\n",
       "      <td>159.787993</td>\n",
       "    </tr>\n",
       "  </tbody>\n",
       "</table>\n",
       "</div>"
      ],
      "text/plain": [
       "  turbine_id        signal_id  \\\n",
       "0       T001  Sensor1_signal1   \n",
       "1       T001  Sensor1_signal1   \n",
       "2       T001  Sensor1_signal1   \n",
       "3       T001  Sensor1_signal1   \n",
       "4       T001  Sensor1_signal1   \n",
       "\n",
       "                                             xvalues  \\\n",
       "0  [2020-01-01 00:00:00, 2020-01-01 00:00:01, 202...   \n",
       "1  [2020-01-01 01:00:00, 2020-01-01 01:00:01, 202...   \n",
       "2  [2020-01-01 02:00:00, 2020-01-01 02:00:01, 202...   \n",
       "3  [2020-01-01 03:00:00, 2020-01-01 03:00:01, 202...   \n",
       "4  [2020-01-01 04:00:00, 2020-01-01 04:00:01, 202...   \n",
       "\n",
       "                                             yvalues  sampling_frequency  \\\n",
       "0  [0.43616983763682876, -0.17662312586241055, 0....              1000.0   \n",
       "1  [0.8023828754411122, -0.14122063493312714, -0....              1000.0   \n",
       "2  [-1.3143142430046044, -1.1055740033788437, -0....              1000.0   \n",
       "3  [-0.45981995520032104, -0.3255426061995603, -0...              1000.0   \n",
       "4  [-0.6380405111460377, -0.11924167777027689, 0....              1000.0   \n",
       "\n",
       "   identity.fft.std.std_value  identity.fft.var.var_value  \n",
       "0                   14.444991                  208.657778  \n",
       "1                   12.326223                  151.935764  \n",
       "2                   12.051415                  145.236607  \n",
       "3                   10.657243                  113.576820  \n",
       "4                   12.640728                  159.787993  "
      ]
     },
     "execution_count": 29,
     "metadata": {},
     "output_type": "execute_result"
    }
   ],
   "source": [
    "processed_data.head()"
   ]
  },
  {
   "cell_type": "code",
   "execution_count": 30,
   "id": "14d42ee9",
   "metadata": {},
   "outputs": [
    {
     "data": {
      "text/plain": [
       "['identity.fft.std.std_value', 'identity.fft.var.var_value']"
      ]
     },
     "execution_count": 30,
     "metadata": {},
     "output_type": "execute_result"
    }
   ],
   "source": [
    "feature_columns"
   ]
  },
  {
   "cell_type": "markdown",
   "id": "8ec7792a",
   "metadata": {},
   "source": [
    "Success! We have managed to apply the primitives to generate features on the input dataset."
   ]
  },
  {
   "cell_type": "code",
   "execution_count": null,
   "id": "b03440ac",
   "metadata": {},
   "outputs": [],
   "source": []
  }
 ],
 "metadata": {
  "kernelspec": {
   "display_name": "Python 3 (ipykernel)",
   "language": "python",
   "name": "python3"
  },
  "language_info": {
   "codemirror_mode": {
    "name": "ipython",
    "version": 3
   },
   "file_extension": ".py",
   "mimetype": "text/x-python",
   "name": "python",
   "nbconvert_exporter": "python",
   "pygments_lexer": "ipython3",
   "version": "3.9.13"
  }
 },
 "nbformat": 4,
 "nbformat_minor": 5
}
